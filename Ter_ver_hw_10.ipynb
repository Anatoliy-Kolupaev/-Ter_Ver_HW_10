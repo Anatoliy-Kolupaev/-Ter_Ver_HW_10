{
 "cells": [
  {
   "cell_type": "markdown",
   "id": "5b28e450",
   "metadata": {},
   "source": [
    "Задача №1\n",
    "Провести дисперсионный анализ для определения того, есть ли различия среднего роста среди взрослых футболистов, хоккеистов и штангистов.\n",
    "\n",
    "Даны значения роста в трех группах случайно выбранных спортсменов:\n",
    "\n",
    "Футболисты: 173, 175, 180, 178, 177, 185, 183, 182.\n",
    "\n",
    "Хоккеисты: 177, 179, 180, 188, 177, 172, 171, 184, 180.\n",
    "\n",
    "Штангисты: 172, 173, 169, 177, 166, 180, 178, 177, 172, 166, 170.\n"
   ]
  },
  {
   "cell_type": "code",
   "execution_count": 8,
   "id": "b360e7fb",
   "metadata": {},
   "outputs": [],
   "source": [
    "import numpy as np\n",
    "from scipy import stats\n",
    "import pandas as pd\n",
    "from statsmodels.stats.multicomp import pairwise_tukeyhsd\n",
    "\n",
    "\n",
    "fut = np.array([173, 175, 180, 178, 177, 185, 183, 182])\n",
    "hok = np.array([177, 179, 180, 188, 177, 172, 171, 184, 180])\n",
    "sht = np.array([172, 173, 169, 177, 166, 180, 178, 177, 172, 166, 170])\n",
    "k = 3\n",
    "n = len(sht)*k"
   ]
  },
  {
   "cell_type": "markdown",
   "id": "2aab34fa",
   "metadata": {},
   "source": [
    "Среднее по каждой группе"
   ]
  },
  {
   "cell_type": "code",
   "execution_count": 16,
   "id": "876bc9a2",
   "metadata": {},
   "outputs": [
    {
     "data": {
      "text/plain": [
       "(179.125, 178.66666666666669, 172.72727272727272)"
      ]
     },
     "execution_count": 16,
     "metadata": {},
     "output_type": "execute_result"
    }
   ],
   "source": [
    "fut_mean = np.mean(fut)\n",
    "hok_mean = np.mean(hok)\n",
    "sht_mean = np.mean(sht)\n",
    "fut_mean, hok_mean, sht_mean"
   ]
  },
  {
   "cell_type": "code",
   "execution_count": 12,
   "id": "f1c6c1e6",
   "metadata": {},
   "outputs": [],
   "source": [
    "fut = np.array([173, 175, 180, 178, 177, 185, 183, 182, fut_mean, fut_mean, fut_mean ])\n",
    "hok = np.array([177, 179, 180, 188, 177, 172, 171, 184, 180, hok_mean, hok_mean])\n",
    "sht = np.array([172, 173, 169, 177, 166, 180, 178, 177, 172, 166, 170])"
   ]
  },
  {
   "cell_type": "code",
   "execution_count": 14,
   "id": "d9b32963",
   "metadata": {},
   "outputs": [
    {
     "data": {
      "text/plain": [
       "array([[173.        , 175.        , 180.        , 178.        ,\n",
       "        177.        , 185.        , 183.        , 182.        ,\n",
       "        179.125     , 179.125     , 179.125     ],\n",
       "       [177.        , 179.        , 180.        , 188.        ,\n",
       "        177.        , 172.        , 171.        , 184.        ,\n",
       "        180.        , 178.66666667, 178.66666667],\n",
       "       [172.        , 173.        , 169.        , 177.        ,\n",
       "        166.        , 180.        , 178.        , 177.        ,\n",
       "        172.        , 166.        , 170.        ]])"
      ]
     },
     "execution_count": 14,
     "metadata": {},
     "output_type": "execute_result"
    }
   ],
   "source": [
    "total = np.array([fut, hok, sht])\n",
    "total"
   ]
  },
  {
   "cell_type": "markdown",
   "id": "c6a79eab",
   "metadata": {},
   "source": [
    "Общая средняя"
   ]
  },
  {
   "cell_type": "code",
   "execution_count": 15,
   "id": "cb380c9e",
   "metadata": {},
   "outputs": [
    {
     "data": {
      "text/plain": [
       "176.83964646464648"
      ]
     },
     "execution_count": 15,
     "metadata": {},
     "output_type": "execute_result"
    }
   ],
   "source": [
    "total_mean = np.mean(total)\n",
    "total_mean"
   ]
  },
  {
   "cell_type": "markdown",
   "id": "2352b55a",
   "metadata": {},
   "source": [
    "Найдем Сумму квадратов откланения"
   ]
  },
  {
   "cell_type": "code",
   "execution_count": 18,
   "id": "3ebba178",
   "metadata": {},
   "outputs": [
    {
     "data": {
      "text/plain": [
       "280.19707491582636"
      ]
     },
     "execution_count": 18,
     "metadata": {},
     "output_type": "execute_result"
    }
   ],
   "source": [
    "S_f = np.sum((fut_mean-total_mean)**2)*11 + np.sum((hok_mean-total_mean)**2)*11 + np.sum((sht_mean-total_mean)**2)*11\n",
    "S_f"
   ]
  },
  {
   "cell_type": "markdown",
   "id": "e96a9b71",
   "metadata": {},
   "source": [
    "Найдем остаточную сумму квадратов отклонений"
   ]
  },
  {
   "cell_type": "code",
   "execution_count": 19,
   "id": "76d17378",
   "metadata": {},
   "outputs": [
    {
     "data": {
      "text/plain": [
       "577.0568181818182"
      ]
     },
     "execution_count": 19,
     "metadata": {},
     "output_type": "execute_result"
    }
   ],
   "source": [
    "S_ost = np.sum((fut-fut_mean)**2) + np.sum((hok-hok_mean)**2) + np.sum((sht-sht_mean)**2)\n",
    "S_ost"
   ]
  },
  {
   "cell_type": "markdown",
   "id": "e641be46",
   "metadata": {},
   "source": [
    "Сумма квадратов отклонения наблюдений от общего среднего"
   ]
  },
  {
   "cell_type": "code",
   "execution_count": 20,
   "id": "8323bfb2",
   "metadata": {},
   "outputs": [
    {
     "data": {
      "text/plain": [
       "857.2538930976445"
      ]
     },
     "execution_count": 20,
     "metadata": {},
     "output_type": "execute_result"
    }
   ],
   "source": [
    "otkl = S_f + S_ost\n",
    "otkl"
   ]
  },
  {
   "cell_type": "code",
   "execution_count": 21,
   "id": "c30324ca",
   "metadata": {},
   "outputs": [
    {
     "data": {
      "text/plain": [
       "857.2538930976433"
      ]
     },
     "execution_count": 21,
     "metadata": {},
     "output_type": "execute_result"
    }
   ],
   "source": [
    "otkl_1 = np.sum((total-total_mean)**2)\n",
    "otkl_1"
   ]
  },
  {
   "cell_type": "code",
   "execution_count": 22,
   "id": "aa5bcc21",
   "metadata": {},
   "outputs": [
    {
     "data": {
      "text/plain": [
       "140.09853745791318"
      ]
     },
     "execution_count": 22,
     "metadata": {},
     "output_type": "execute_result"
    }
   ],
   "source": [
    "D_f = S_f/(k-1)\n",
    "D_f"
   ]
  },
  {
   "cell_type": "code",
   "execution_count": 23,
   "id": "37770fcf",
   "metadata": {},
   "outputs": [
    {
     "data": {
      "text/plain": [
       "19.235227272727276"
      ]
     },
     "execution_count": 23,
     "metadata": {},
     "output_type": "execute_result"
    }
   ],
   "source": [
    "D_ost = S_ost/(n-k)\n",
    "D_ost"
   ]
  },
  {
   "cell_type": "code",
   "execution_count": 25,
   "id": "5e64de59",
   "metadata": {},
   "outputs": [
    {
     "data": {
      "text/plain": [
       "7.283435515032999"
      ]
     },
     "execution_count": 25,
     "metadata": {},
     "output_type": "execute_result"
    }
   ],
   "source": [
    "F_n = D_f/D_ost\n",
    "F_n"
   ]
  },
  {
   "cell_type": "code",
   "execution_count": 26,
   "id": "bb06fb35",
   "metadata": {},
   "outputs": [
    {
     "data": {
      "text/plain": [
       "F_onewayResult(statistic=7.2834355150329655, pvalue=0.002640198989115626)"
      ]
     },
     "execution_count": 26,
     "metadata": {},
     "output_type": "execute_result"
    }
   ],
   "source": [
    "f = stats.f_oneway(fut, hok, sht)\n",
    "f"
   ]
  },
  {
   "cell_type": "markdown",
   "id": "78f39f76",
   "metadata": {},
   "source": [
    "Вывод: pvalue меньше чем 0.05 значит есть статистически значимые различия."
   ]
  },
  {
   "cell_type": "code",
   "execution_count": 29,
   "id": "6a32d95a",
   "metadata": {},
   "outputs": [
    {
     "name": "stdout",
     "output_type": "stream",
     "text": [
      "    Multiple Comparison of Means - Tukey HSD, FWER=0.05     \n",
      "============================================================\n",
      "  group1     group2  meandiff p-adj   lower    upper  reject\n",
      "------------------------------------------------------------\n",
      "футболисты хоккеисты  -0.4583 0.9675  -5.0687   4.152  False\n",
      "футболисты штангисты  -6.3977  0.005 -11.0081 -1.7874   True\n",
      " хоккеисты штангисты  -5.9394 0.0094 -10.5497 -1.3291   True\n",
      "------------------------------------------------------------\n"
     ]
    }
   ],
   "source": [
    "df = pd.DataFrame({'score':[173, 175, 180, 178, 177, 185, 183, 182, 179.125, 179.125, 179.125, 177, 179, 180, 188, 177, 172, 171, 184, 180, 178.66666667, 178.66666667, 172, 173, 169, 177, 166, 180, 178, 177, 172, 166, 170 ],'group':np.repeat(['футболисты', 'хоккеисты', 'штангисты'], repeats = 11)})\n",
    "tukey = pairwise_tukeyhsd(endog = df['score'], groups = df['group'], alpha = 0.05)\n",
    "print(tukey)"
   ]
  },
  {
   "cell_type": "markdown",
   "id": "da2f20c4",
   "metadata": {},
   "source": [
    "Вывод: Между футболистами и хокеистами нет значимых различий, а между остальными парами есть."
   ]
  },
  {
   "cell_type": "code",
   "execution_count": null,
   "id": "a0ac7f7b",
   "metadata": {},
   "outputs": [],
   "source": []
  }
 ],
 "metadata": {
  "kernelspec": {
   "display_name": "Python 3 (ipykernel)",
   "language": "python",
   "name": "python3"
  },
  "language_info": {
   "codemirror_mode": {
    "name": "ipython",
    "version": 3
   },
   "file_extension": ".py",
   "mimetype": "text/x-python",
   "name": "python",
   "nbconvert_exporter": "python",
   "pygments_lexer": "ipython3",
   "version": "3.9.13"
  }
 },
 "nbformat": 4,
 "nbformat_minor": 5
}
